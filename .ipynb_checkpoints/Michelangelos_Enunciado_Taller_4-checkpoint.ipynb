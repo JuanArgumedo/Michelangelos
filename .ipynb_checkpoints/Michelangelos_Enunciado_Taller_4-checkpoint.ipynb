{
 "cells": [
  {
   "cell_type": "markdown",
   "id": "ca89b551",
   "metadata": {},
   "source": [
    "## Taller 4: Procesamiento de Imágenes"
   ]
  },
  {
   "cell_type": "markdown",
   "id": "d4468b7d",
   "metadata": {},
   "source": [
    "Chocolove está satisfecho con su trabajo analizando los datos de las ventas del restaurante y, en vista de las buenas proyecciones del negocio, considera oportuno diseñar la carta del menú. Para ello le ha compartido una carpeta llamada `Menu_Photos` con imágenes de los productos que vende en el restaurante para que las muestre en una imagen con su nombre y precio de venta. \n",
    "Se suministra un código con comentarios con el objetivo de obtener los precios de los productos y mostrar las imágenes en una matriz. El objetivo de la actividad es realizar las modificaciones solicitadas por Chocolove para obtener un menú visualmente atractivo que brinde información básica de sus productos.\n",
    "\n",
    "**Nota:** Ejecuta las siguientes celdas antes de proceder con las actividades del taller. Se recomienda leer con atención las instrucciones suministradas."
   ]
  },
  {
   "cell_type": "code",
   "execution_count": 1,
   "id": "ef432837",
   "metadata": {
    "scrolled": false
   },
   "outputs": [
    {
     "ename": "ModuleNotFoundError",
     "evalue": "No module named 'cv2'",
     "output_type": "error",
     "traceback": [
      "\u001b[1;31m---------------------------------------------------------------------------\u001b[0m",
      "\u001b[1;31mModuleNotFoundError\u001b[0m                       Traceback (most recent call last)",
      "\u001b[1;32m~\\AppData\\Local\\Temp\\ipykernel_28664\\1136863035.py\u001b[0m in \u001b[0;36m<module>\u001b[1;34m\u001b[0m\n\u001b[0;32m      3\u001b[0m \u001b[1;32mimport\u001b[0m \u001b[0mcsv\u001b[0m\u001b[1;33m\u001b[0m\u001b[1;33m\u001b[0m\u001b[0m\n\u001b[0;32m      4\u001b[0m \u001b[1;32mimport\u001b[0m \u001b[0mos\u001b[0m\u001b[1;33m\u001b[0m\u001b[1;33m\u001b[0m\u001b[0m\n\u001b[1;32m----> 5\u001b[1;33m \u001b[1;32mimport\u001b[0m \u001b[0mcv2\u001b[0m \u001b[1;32mas\u001b[0m \u001b[0mcv\u001b[0m\u001b[1;33m\u001b[0m\u001b[1;33m\u001b[0m\u001b[0m\n\u001b[0m\u001b[0;32m      6\u001b[0m \u001b[1;32mimport\u001b[0m \u001b[0mnumpy\u001b[0m \u001b[1;32mas\u001b[0m \u001b[0mnp\u001b[0m\u001b[1;33m\u001b[0m\u001b[1;33m\u001b[0m\u001b[0m\n\u001b[0;32m      7\u001b[0m \u001b[1;32mfrom\u001b[0m \u001b[0mmatplotlib\u001b[0m \u001b[1;32mimport\u001b[0m \u001b[0mpyplot\u001b[0m \u001b[1;32mas\u001b[0m \u001b[0mplt\u001b[0m\u001b[1;33m\u001b[0m\u001b[1;33m\u001b[0m\u001b[0m\n",
      "\u001b[1;31mModuleNotFoundError\u001b[0m: No module named 'cv2'"
     ]
    }
   ],
   "source": [
    "# Se importan las librerías necesarias para desarrollar las actividades del taller\n",
    "from restaurant import Dish, Restaurant\n",
    "import csv\n",
    "import os\n",
    "import cv2 as cv\n",
    "import numpy as np\n",
    "from matplotlib import pyplot as plt\n",
    "\n",
    "# Esta línea permite visualizar correctamente las gráficas generadas con matplotlib en el notebook\n",
    "%matplotlib inline\n",
    "# Se configuran algunos parámetros de las figuras que se van a generar. \n",
    "# 'lemonchiffon' es un named color en matplotlib. Su código RGB es (255,250,205)\n",
    "plt.rcParams['figure.dpi'] = 72\n",
    "plt.rcParams[\"figure.facecolor\"] = 'lemonchiffon'\n",
    "plt.rcParams[\"savefig.facecolor\"] = 'lemonchiffon'\n",
    "plt.rcParams[\"figure.autolayout\"] = True\n",
    "\n",
    "# Creación del restaurante Michelangelo's de Chocolove. \n",
    "michelangelos = Restaurant(\"Michelangelo's\", \"Chocolove McDonell\", \"221B Baker Street\", \"634-5789\")\n",
    "# Lectura de los platos del restaurante. Este archivo fue modificado para evitar el uso de tildes en los nombres de los productos.\n",
    "with open('dishes.csv') as dishes_data:\n",
    "    dishes_reader = csv.DictReader(dishes_data, delimiter=\";\")\n",
    "    for row in dishes_reader:\n",
    "        michelangelos.add_to_menu((Dish(row[\"name\"], int(row[\"price\"]), row[\"category\"], row[\"description\"])))\n",
    "\n",
    "# Función para obtener el precio de un producto dado su nombre. \n",
    "# Esta función se crea para facilitar la obtención de los precios en el contexto del ejercicio actual. \n",
    "# El menu es un diccionario que se puede obtener con el método .get_menu() de Restaurant. \n",
    "def get_price(dish_name):\n",
    "    menu = michelangelos.get_menu()\n",
    "    dishes_prices = [(dish.get_name(), dish.get_price()) for dish in menu.values()]\n",
    "    price = 'Not Found'\n",
    "    # Búsqueda ordenada de precios comparando nombres. \n",
    "    # La instrucción 'break' se utiliza para salir del ciclo si se encuentra coincidencia en los nombres.\n",
    "    for dish in dishes_prices:\n",
    "        if dish[0] == dish_name:\n",
    "            price = dish[1]\n",
    "            break\n",
    "    return price"
   ]
  },
  {
   "cell_type": "code",
   "execution_count": null,
   "id": "6cbe20b9",
   "metadata": {},
   "outputs": [],
   "source": [
    "# Ubicación de las fotografías del menú del restaurante\n",
    "dir = r'./Menu_Photos'\n",
    "\n",
    "# Lectura de los nombres de los archivos en la carpeta 'Menu_Photos'\n",
    "# Se agregan los nombres de los archivos a una lista de 'filenames'\n",
    "filenames = []\n",
    "for i in os.listdir(dir):\n",
    "    filenames.append(i)\n",
    "    \n",
    "# Nombres de los archivos sin la extensión\n",
    "product_names = [filename.split('.')[0] for filename in filenames]\n",
    "\n",
    "# Precios de los productos\n",
    "prices = [get_price(product) for product in product_names]"
   ]
  },
  {
   "cell_type": "markdown",
   "id": "abb79021",
   "metadata": {},
   "source": [
    "### Actividades\n",
    "\n",
    "Para las siguientes actividades, escriba su código dentro del ciclo entre las líneas de comentario. Tenga en cuenta la indentación. \n",
    "\n",
    "1. Crea una variable temporal `name` que sea igual al nombre del producto en la lista `product_names` para la posición actual del iterador del ciclo `i`.\n",
    "2. Crea una variable temporal `price` que sea igual al precio del producto en la lista `prices` para la posición actual del iterador del ciclo `i`. Convierta este valor en un `string` y agregue el signo de pesos `$` al inicio y la moneda `COP` al final.\n",
    "3. Crea una variable llamada `center` que sea una tupla de dos posiciones: el alto y el ancho de la imagen redimensionada `img_resized` dividida entre 2. El alto es la primera posición del atributo `.shape` y el ancho la segunda posición. \n",
    "4. Crea una variable llamada `cropped_image` que sea la versión recortada de `img_resized`. Esta debe tener como centro los valores de la tupla `center`, un alto de 1000px, y un ancho de 1400px. **Tip:** los límites del corte son la posición central más/menos la mitad de la dimensión esperada. Recuerda utilizar números enteros. La estructura del corte es: `img[y_min:y_max,x_min:x_max]`\n",
    "5. Crea una variable llamada `flipped_image` que sea la versión volteada horizontalmente de `cropped_image`. \n",
    "6. Crea una variable llamada `contrast_image` que sea la versión con un 10% más de contraste de `flipped_image`. **Tip:** la matriz de unos multiplicada se multiplica por `1.1`. No olvides utilizar la función `.clip()` para limitar los valores. \n",
    "7. Crea una variable llamada `bright_image` que sea la versión con 20 puntos menos de brillo de `contrast_image`. \n",
    "8. Sustituye el valor de `final_image` por `bright_image`.\n",
    "9. Añade dos rectángulos rellenos sobre `final_image` teniendo en cuenta los siguientes parámetros:\n",
    "    - Primer rectángulo:\n",
    "        - Posición inicial: (0, 30)\n",
    "        - Posición final: (1000, 140)\n",
    "    - Segundo rectángulo:\n",
    "        - Posición inicial: (400, 860)\n",
    "        - Posición final: (1400, 970)\n",
    "\n",
    "Para ambos rectángulo utilice el color (255, 250, 205) y grosor `-1` para rellenar. \n",
    "**Tip:** Estructura del rectángulo: cv.rectangle(img, pt1, pt2, color, thickness)\n",
    "\n",
    "10. Añade dos anotaciones sobre `final_image` teniendo en cuenta los siguientes parámetros:\n",
    "    - Primer texto:\n",
    "        - Texto: nombre del producto `name`\n",
    "        - Posición: (100, 110)\n",
    "    - Segundo text:\n",
    "        - Texto: precio del producto `price`\n",
    "        - Posición: (800, 950)\n",
    "\n",
    "Para ambas anotaciones:\n",
    "- Fuente: cv.FONT_HERSHEY_PLAIN\n",
    "- Escala: 5\n",
    "- Color: (0, 0, 0)\n",
    "- Grosor: 3\n",
    "- Estilo de línea: cv.LINE_AA\n",
    "\n",
    "**Tip:** Estructura de la anotación: cv.putText(img, text, position, fontFace, fontScale, color, thickness, lineType)"
   ]
  },
  {
   "cell_type": "code",
   "execution_count": null,
   "id": "b7271095",
   "metadata": {},
   "outputs": [],
   "source": [
    "# Proceso de visualización de imágenes\n",
    "fig, axs = plt.subplots(5, 2, figsize=(12, 16))\n",
    "fig.subplots_adjust(hspace = .1, wspace=.0001)\n",
    "plt.suptitle(f\"{michelangelos}\", fontsize='x-large')\n",
    "\n",
    "axs = axs.ravel()\n",
    "desired_height = 1200\n",
    "\n",
    "for i in range(len(filenames)):\n",
    "    img = cv.imread(os.path.join(dir, filenames[i]))\n",
    "    aspect_ratio = desired_height/img.shape[0]\n",
    "    desired_width = int(img.shape[1]*aspect_ratio)\n",
    "    dim = (desired_width, desired_height)\n",
    "    img_resized = cv.resize(img, dsize=dim, interpolation=cv.INTER_AREA)[:,:,::-1]\n",
    "    \n",
    "    #-----------------------\n",
    "    # Su solución aquí!!! No borres las demás lineas de código ;) y ten en cuenta la indentación.\n",
    "    \n",
    "    final_image = img_resized\n",
    "\n",
    "    #-----------------------\n",
    "    axs[i].imshow(final_image, cmap='gray')\n",
    "    axs[i].set_xticks([])\n",
    "    axs[i].set_yticks([])\n",
    "\n",
    "plt.savefig('Menu_Photos.png')"
   ]
  }
 ],
 "metadata": {
  "kernelspec": {
   "display_name": "Python 3 (ipykernel)",
   "language": "python",
   "name": "python3"
  },
  "language_info": {
   "codemirror_mode": {
    "name": "ipython",
    "version": 3
   },
   "file_extension": ".py",
   "mimetype": "text/x-python",
   "name": "python",
   "nbconvert_exporter": "python",
   "pygments_lexer": "ipython3",
   "version": "3.9.13"
  }
 },
 "nbformat": 4,
 "nbformat_minor": 5
}
